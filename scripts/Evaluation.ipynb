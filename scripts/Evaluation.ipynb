{
 "cells": [
  {
   "cell_type": "markdown",
   "id": "917a4a2a-aed1-4e62-b5ff-d3d087d47ff3",
   "metadata": {},
   "source": [
    "# Quality"
   ]
  },
  {
   "cell_type": "code",
   "execution_count": 4,
   "id": "1ee7d250-7bf8-4e3b-8bf8-f13a6d78da9b",
   "metadata": {},
   "outputs": [
    {
     "name": "stdout",
     "output_type": "stream",
     "text": [
      "False\n",
      "../output/ArtELingo/output.jsonl\n",
      "******************************\n",
      "avg BLEU score 0.0\n",
      "avg ROUGE-L score 0.01302948477678001\n",
      "avg dist1 score 1.0\n",
      "avg len 1.0\n"
     ]
    }
   ],
   "source": [
    "!python eval_seq2seq.py --folder ../output/ArtELingo --mbr"
   ]
  },
  {
   "cell_type": "code",
   "execution_count": 1,
   "id": "884b1237-4d45-4ce3-a06a-4bcb8fbbc4c4",
   "metadata": {},
   "outputs": [
    {
     "name": "stdout",
     "output_type": "stream",
     "text": [
      "False\n",
      "../output/ArtELingo/output.jsonl\n",
      "******************************\n",
      "avg BLEU score 0.0\n",
      "avg ROUGE-L score 0.06117449237388514\n",
      "avg dist1 score 1.0\n",
      "avg len 1.0\n"
     ]
    }
   ],
   "source": [
    "!python eval_seq2seq.py --folder ../output/ArtELingo --mbr"
   ]
  }
 ],
 "metadata": {
  "kernelspec": {
   "display_name": "Python 3",
   "language": "python",
   "name": "python3"
  },
  "language_info": {
   "codemirror_mode": {
    "name": "ipython",
    "version": 3
   },
   "file_extension": ".py",
   "mimetype": "text/x-python",
   "name": "python",
   "nbconvert_exporter": "python",
   "pygments_lexer": "ipython3",
   "version": "3.6.8"
  }
 },
 "nbformat": 4,
 "nbformat_minor": 5
}
